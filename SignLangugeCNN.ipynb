{
 "cells": [
  {
   "cell_type": "markdown",
   "metadata": {},
   "source": [
    "# Importing librays"
   ]
  },
  {
   "cell_type": "code",
   "execution_count": 58,
   "metadata": {
    "execution": {
     "iopub.execute_input": "2022-01-24T21:51:33.089176Z",
     "iopub.status.busy": "2022-01-24T21:51:33.088604Z",
     "iopub.status.idle": "2022-01-24T21:51:33.111308Z",
     "shell.execute_reply": "2022-01-24T21:51:33.110529Z",
     "shell.execute_reply.started": "2022-01-24T21:51:33.089139Z"
    }
   },
   "outputs": [],
   "source": [
    "import numpy as np\n",
    "import pandas as pd \n",
    "import matplotlib.pyplot as plt\n",
    "import seaborn as sns\n",
    "import keras\n",
    "import tensorflow as tf\n",
    "\n",
    "from tensorflow.keras.utils import to_categorical\n",
    "from keras.models import Sequential\n",
    "from keras.layers import Dense, Conv2D , MaxPool2D , Flatten , Dropout , BatchNormalization\n",
    "from keras.preprocessing.image import ImageDataGenerator\n",
    "from sklearn.metrics import confusion_matrix\n",
    "from sklearn.model_selection import train_test_split\n",
    "from keras.callbacks import ReduceLROnPlateau"
   ]
  },
  {
   "cell_type": "markdown",
   "metadata": {},
   "source": [
    "# Loading dataset"
   ]
  },
  {
   "cell_type": "code",
   "execution_count": 55,
   "metadata": {
    "execution": {
     "iopub.execute_input": "2022-01-24T21:49:23.453128Z",
     "iopub.status.busy": "2022-01-24T21:49:23.452828Z",
     "iopub.status.idle": "2022-01-24T21:49:26.009525Z",
     "shell.execute_reply": "2022-01-24T21:49:26.008763Z",
     "shell.execute_reply.started": "2022-01-24T21:49:23.453093Z"
    }
   },
   "outputs": [],
   "source": [
    "train = pd.read_csv(\"/kaggle/input/sign-language-mnist/sign_mnist_train.csv\")\n",
    "test = pd.read_csv(\"/kaggle/input/sign-language-mnist/sign_mnist_test.csv\")"
   ]
  },
  {
   "cell_type": "code",
   "execution_count": 3,
   "metadata": {
    "execution": {
     "iopub.execute_input": "2022-01-24T21:06:00.956599Z",
     "iopub.status.busy": "2022-01-24T21:06:00.956348Z",
     "iopub.status.idle": "2022-01-24T21:06:00.979834Z",
     "shell.execute_reply": "2022-01-24T21:06:00.979097Z",
     "shell.execute_reply.started": "2022-01-24T21:06:00.956565Z"
    }
   },
   "outputs": [
    {
     "data": {
      "text/html": [
       "<div>\n",
       "<style scoped>\n",
       "    .dataframe tbody tr th:only-of-type {\n",
       "        vertical-align: middle;\n",
       "    }\n",
       "\n",
       "    .dataframe tbody tr th {\n",
       "        vertical-align: top;\n",
       "    }\n",
       "\n",
       "    .dataframe thead th {\n",
       "        text-align: right;\n",
       "    }\n",
       "</style>\n",
       "<table border=\"1\" class=\"dataframe\">\n",
       "  <thead>\n",
       "    <tr style=\"text-align: right;\">\n",
       "      <th></th>\n",
       "      <th>label</th>\n",
       "      <th>pixel1</th>\n",
       "      <th>pixel2</th>\n",
       "      <th>pixel3</th>\n",
       "      <th>pixel4</th>\n",
       "      <th>pixel5</th>\n",
       "      <th>pixel6</th>\n",
       "      <th>pixel7</th>\n",
       "      <th>pixel8</th>\n",
       "      <th>pixel9</th>\n",
       "      <th>...</th>\n",
       "      <th>pixel775</th>\n",
       "      <th>pixel776</th>\n",
       "      <th>pixel777</th>\n",
       "      <th>pixel778</th>\n",
       "      <th>pixel779</th>\n",
       "      <th>pixel780</th>\n",
       "      <th>pixel781</th>\n",
       "      <th>pixel782</th>\n",
       "      <th>pixel783</th>\n",
       "      <th>pixel784</th>\n",
       "    </tr>\n",
       "  </thead>\n",
       "  <tbody>\n",
       "    <tr>\n",
       "      <th>0</th>\n",
       "      <td>3</td>\n",
       "      <td>107</td>\n",
       "      <td>118</td>\n",
       "      <td>127</td>\n",
       "      <td>134</td>\n",
       "      <td>139</td>\n",
       "      <td>143</td>\n",
       "      <td>146</td>\n",
       "      <td>150</td>\n",
       "      <td>153</td>\n",
       "      <td>...</td>\n",
       "      <td>207</td>\n",
       "      <td>207</td>\n",
       "      <td>207</td>\n",
       "      <td>207</td>\n",
       "      <td>206</td>\n",
       "      <td>206</td>\n",
       "      <td>206</td>\n",
       "      <td>204</td>\n",
       "      <td>203</td>\n",
       "      <td>202</td>\n",
       "    </tr>\n",
       "    <tr>\n",
       "      <th>1</th>\n",
       "      <td>6</td>\n",
       "      <td>155</td>\n",
       "      <td>157</td>\n",
       "      <td>156</td>\n",
       "      <td>156</td>\n",
       "      <td>156</td>\n",
       "      <td>157</td>\n",
       "      <td>156</td>\n",
       "      <td>158</td>\n",
       "      <td>158</td>\n",
       "      <td>...</td>\n",
       "      <td>69</td>\n",
       "      <td>149</td>\n",
       "      <td>128</td>\n",
       "      <td>87</td>\n",
       "      <td>94</td>\n",
       "      <td>163</td>\n",
       "      <td>175</td>\n",
       "      <td>103</td>\n",
       "      <td>135</td>\n",
       "      <td>149</td>\n",
       "    </tr>\n",
       "    <tr>\n",
       "      <th>2</th>\n",
       "      <td>2</td>\n",
       "      <td>187</td>\n",
       "      <td>188</td>\n",
       "      <td>188</td>\n",
       "      <td>187</td>\n",
       "      <td>187</td>\n",
       "      <td>186</td>\n",
       "      <td>187</td>\n",
       "      <td>188</td>\n",
       "      <td>187</td>\n",
       "      <td>...</td>\n",
       "      <td>202</td>\n",
       "      <td>201</td>\n",
       "      <td>200</td>\n",
       "      <td>199</td>\n",
       "      <td>198</td>\n",
       "      <td>199</td>\n",
       "      <td>198</td>\n",
       "      <td>195</td>\n",
       "      <td>194</td>\n",
       "      <td>195</td>\n",
       "    </tr>\n",
       "    <tr>\n",
       "      <th>3</th>\n",
       "      <td>2</td>\n",
       "      <td>211</td>\n",
       "      <td>211</td>\n",
       "      <td>212</td>\n",
       "      <td>212</td>\n",
       "      <td>211</td>\n",
       "      <td>210</td>\n",
       "      <td>211</td>\n",
       "      <td>210</td>\n",
       "      <td>210</td>\n",
       "      <td>...</td>\n",
       "      <td>235</td>\n",
       "      <td>234</td>\n",
       "      <td>233</td>\n",
       "      <td>231</td>\n",
       "      <td>230</td>\n",
       "      <td>226</td>\n",
       "      <td>225</td>\n",
       "      <td>222</td>\n",
       "      <td>229</td>\n",
       "      <td>163</td>\n",
       "    </tr>\n",
       "    <tr>\n",
       "      <th>4</th>\n",
       "      <td>13</td>\n",
       "      <td>164</td>\n",
       "      <td>167</td>\n",
       "      <td>170</td>\n",
       "      <td>172</td>\n",
       "      <td>176</td>\n",
       "      <td>179</td>\n",
       "      <td>180</td>\n",
       "      <td>184</td>\n",
       "      <td>185</td>\n",
       "      <td>...</td>\n",
       "      <td>92</td>\n",
       "      <td>105</td>\n",
       "      <td>105</td>\n",
       "      <td>108</td>\n",
       "      <td>133</td>\n",
       "      <td>163</td>\n",
       "      <td>157</td>\n",
       "      <td>163</td>\n",
       "      <td>164</td>\n",
       "      <td>179</td>\n",
       "    </tr>\n",
       "  </tbody>\n",
       "</table>\n",
       "<p>5 rows × 785 columns</p>\n",
       "</div>"
      ],
      "text/plain": [
       "   label  pixel1  pixel2  pixel3  pixel4  pixel5  pixel6  pixel7  pixel8  \\\n",
       "0      3     107     118     127     134     139     143     146     150   \n",
       "1      6     155     157     156     156     156     157     156     158   \n",
       "2      2     187     188     188     187     187     186     187     188   \n",
       "3      2     211     211     212     212     211     210     211     210   \n",
       "4     13     164     167     170     172     176     179     180     184   \n",
       "\n",
       "   pixel9  ...  pixel775  pixel776  pixel777  pixel778  pixel779  pixel780  \\\n",
       "0     153  ...       207       207       207       207       206       206   \n",
       "1     158  ...        69       149       128        87        94       163   \n",
       "2     187  ...       202       201       200       199       198       199   \n",
       "3     210  ...       235       234       233       231       230       226   \n",
       "4     185  ...        92       105       105       108       133       163   \n",
       "\n",
       "   pixel781  pixel782  pixel783  pixel784  \n",
       "0       206       204       203       202  \n",
       "1       175       103       135       149  \n",
       "2       198       195       194       195  \n",
       "3       225       222       229       163  \n",
       "4       157       163       164       179  \n",
       "\n",
       "[5 rows x 785 columns]"
      ]
     },
     "execution_count": 3,
     "metadata": {},
     "output_type": "execute_result"
    }
   ],
   "source": [
    "train.head()"
   ]
  },
  {
   "cell_type": "code",
   "execution_count": 4,
   "metadata": {
    "execution": {
     "iopub.execute_input": "2022-01-24T21:06:00.98237Z",
     "iopub.status.busy": "2022-01-24T21:06:00.982077Z",
     "iopub.status.idle": "2022-01-24T21:06:00.987125Z",
     "shell.execute_reply": "2022-01-24T21:06:00.986453Z",
     "shell.execute_reply.started": "2022-01-24T21:06:00.982335Z"
    }
   },
   "outputs": [
    {
     "name": "stdout",
     "output_type": "stream",
     "text": [
      "Shape of train set:  (27455, 785) \n",
      "Shape of test set:  (7172, 785)\n"
     ]
    }
   ],
   "source": [
    "print(\"Shape of train set: \", train.shape, '\\n'\n",
    "      \"Shape of test set: \", test.shape)"
   ]
  },
  {
   "cell_type": "markdown",
   "metadata": {},
   "source": [
    "# Check for corrupted data"
   ]
  },
  {
   "cell_type": "code",
   "execution_count": 5,
   "metadata": {
    "execution": {
     "iopub.execute_input": "2022-01-24T21:06:00.988705Z",
     "iopub.status.busy": "2022-01-24T21:06:00.988259Z",
     "iopub.status.idle": "2022-01-24T21:06:01.030742Z",
     "shell.execute_reply": "2022-01-24T21:06:01.030109Z",
     "shell.execute_reply.started": "2022-01-24T21:06:00.988668Z"
    }
   },
   "outputs": [
    {
     "name": "stdout",
     "output_type": "stream",
     "text": [
      "Corrupted pixels and labels in train set:  0 \n",
      "Corrupted pixels and labels in test set:  0\n"
     ]
    }
   ],
   "source": [
    "print(\"Corrupted pixels and labels in train set: \", train.isna().sum().sum(), '\\n'\n",
    "        \"Corrupted pixels and labels in test set: \", test.isna().sum().sum())"
   ]
  },
  {
   "cell_type": "markdown",
   "metadata": {},
   "source": [
    "# Data preprocessing"
   ]
  },
  {
   "cell_type": "code",
   "execution_count": 74,
   "metadata": {
    "execution": {
     "iopub.execute_input": "2022-01-24T22:01:18.59274Z",
     "iopub.status.busy": "2022-01-24T22:01:18.592484Z",
     "iopub.status.idle": "2022-01-24T22:01:18.915538Z",
     "shell.execute_reply": "2022-01-24T22:01:18.914882Z",
     "shell.execute_reply.started": "2022-01-24T22:01:18.592712Z"
    }
   },
   "outputs": [
    {
     "data": {
      "text/plain": [
       "<AxesSubplot:xlabel='label', ylabel='count'>"
      ]
     },
     "execution_count": 74,
     "metadata": {},
     "output_type": "execute_result"
    },
    {
     "data": {
      "image/png": "[encoded data removed]",
      "text/plain": [
       "<Figure size 432x432 with 1 Axes>"
      ]
     },
     "metadata": {
      "needs_background": "light"
     },
     "output_type": "display_data"
    }
   ],
   "source": [
    "plt.figure(figsize = (6, 6))\n",
    "sns.countplot(x = train['label'])"
   ]
  },
  {
   "cell_type": "code",
   "execution_count": 75,
   "metadata": {
    "execution": {
     "iopub.execute_input": "2022-01-24T22:01:27.902708Z",
     "iopub.status.busy": "2022-01-24T22:01:27.902169Z",
     "iopub.status.idle": "2022-01-24T22:01:28.213651Z",
     "shell.execute_reply": "2022-01-24T22:01:28.212918Z",
     "shell.execute_reply.started": "2022-01-24T22:01:27.902671Z"
    }
   },
   "outputs": [
    {
     "data": {
      "text/plain": [
       "<AxesSubplot:xlabel='label', ylabel='count'>"
      ]
     },
     "execution_count": 75,
     "metadata": {},
     "output_type": "execute_result"
    },
    {
     "data": {
      "image/png": "[encoded data removed]",
      "text/plain": [
       "<Figure size 432x432 with 1 Axes>"
      ]
     },
     "metadata": {
      "needs_background": "light"
     },
     "output_type": "display_data"
    }
   ],
   "source": [
    "plt.figure(figsize = (6, 6))\n",
    "sns.countplot(x = test['label'])"
   ]
  },
  {
   "cell_type": "markdown",
   "metadata": {},
   "source": [
    "# Split dataset to XTrain, yTrain, XTest, yTest and y which we will use for confusion matrix"
   ]
  },
  {
   "cell_type": "code",
   "execution_count": null,
   "metadata": {},
   "outputs": [],
   "source": [
    "dataset = train.append(test)"
   ]
  },
  {
   "cell_type": "code",
   "execution_count": 70,
   "metadata": {
    "execution": {
     "iopub.execute_input": "2022-01-24T21:59:59.269678Z",
     "iopub.status.busy": "2022-01-24T21:59:59.269427Z",
     "iopub.status.idle": "2022-01-24T21:59:59.603144Z",
     "shell.execute_reply": "2022-01-24T21:59:59.602342Z",
     "shell.execute_reply.started": "2022-01-24T21:59:59.269651Z"
    }
   },
   "outputs": [],
   "source": [
    "X = dataset.drop(['label'], axis = 1)\n",
    "y = dataset['label']\n",
    "\n",
    "XTrain, XTest, yTrain, yTest = train_test_split(X, y, test_size = 0.3, train_size = 0.7, random_state = 21, shuffle = True)\n",
    "y = yTest.copy()"
   ]
  },
  {
   "cell_type": "code",
   "execution_count": 77,
   "metadata": {
    "execution": {
     "iopub.execute_input": "2022-01-24T22:02:00.306017Z",
     "iopub.status.busy": "2022-01-24T22:02:00.305519Z",
     "iopub.status.idle": "2022-01-24T22:02:00.626621Z",
     "shell.execute_reply": "2022-01-24T22:02:00.625898Z",
     "shell.execute_reply.started": "2022-01-24T22:02:00.305978Z"
    }
   },
   "outputs": [
    {
     "data": {
      "text/plain": [
       "<AxesSubplot:xlabel='label', ylabel='count'>"
      ]
     },
     "execution_count": 77,
     "metadata": {},
     "output_type": "execute_result"
    },
    {
     "data": {
      "image/png": "[encoded data removed]",
      "text/plain": [
       "<Figure size 432x432 with 1 Axes>"
      ]
     },
     "metadata": {
      "needs_background": "light"
     },
     "output_type": "display_data"
    }
   ],
   "source": [
    "plt.figure(figsize = (6, 6))\n",
    "sns.countplot(x = yTrain)"
   ]
  },
  {
   "cell_type": "code",
   "execution_count": 78,
   "metadata": {
    "execution": {
     "iopub.execute_input": "2022-01-24T22:02:01.587157Z",
     "iopub.status.busy": "2022-01-24T22:02:01.586622Z",
     "iopub.status.idle": "2022-01-24T22:02:01.898597Z",
     "shell.execute_reply": "2022-01-24T22:02:01.897911Z",
     "shell.execute_reply.started": "2022-01-24T22:02:01.58712Z"
    }
   },
   "outputs": [
    {
     "data": {
      "text/plain": [
       "<AxesSubplot:xlabel='label', ylabel='count'>"
      ]
     },
     "execution_count": 78,
     "metadata": {},
     "output_type": "execute_result"
    },
    {
     "data": {
      "image/png": "[encoded data removed]",
      "text/plain": [
       "<Figure size 432x432 with 1 Axes>"
      ]
     },
     "metadata": {
      "needs_background": "light"
     },
     "output_type": "display_data"
    }
   ],
   "source": [
    "plt.figure(figsize = (6, 6))\n",
    "sns.countplot(x = yTest)"
   ]
  },
  {
   "cell_type": "markdown",
   "metadata": {},
   "source": [
    "# Convert yTrain and yTest to one hot representation for softmax"
   ]
  },
  {
   "cell_type": "code",
   "execution_count": 79,
   "metadata": {
    "execution": {
     "iopub.execute_input": "2022-01-24T22:03:15.72194Z",
     "iopub.status.busy": "2022-01-24T22:03:15.721631Z",
     "iopub.status.idle": "2022-01-24T22:03:15.727671Z",
     "shell.execute_reply": "2022-01-24T22:03:15.727049Z",
     "shell.execute_reply.started": "2022-01-24T22:03:15.721905Z"
    }
   },
   "outputs": [],
   "source": [
    "numClasses = len(yTrain.unique()) + 1 # Dataset is missing class 9"
   ]
  },
  {
   "cell_type": "code",
   "execution_count": 80,
   "metadata": {
    "execution": {
     "iopub.execute_input": "2022-01-24T22:03:16.683242Z",
     "iopub.status.busy": "2022-01-24T22:03:16.682742Z",
     "iopub.status.idle": "2022-01-24T22:03:16.693085Z",
     "shell.execute_reply": "2022-01-24T22:03:16.692114Z",
     "shell.execute_reply.started": "2022-01-24T22:03:16.683196Z"
    }
   },
   "outputs": [],
   "source": [
    "yTrain = to_categorical(yTrain, numClasses)\n",
    "yTest = to_categorical(yTest, numClasses)"
   ]
  },
  {
   "cell_type": "markdown",
   "metadata": {},
   "source": [
    "# Data normalization"
   ]
  },
  {
   "cell_type": "code",
   "execution_count": 81,
   "metadata": {
    "execution": {
     "iopub.execute_input": "2022-01-24T22:03:19.198218Z",
     "iopub.status.busy": "2022-01-24T22:03:19.197662Z",
     "iopub.status.idle": "2022-01-24T22:03:19.288767Z",
     "shell.execute_reply": "2022-01-24T22:03:19.288041Z",
     "shell.execute_reply.started": "2022-01-24T22:03:19.198179Z"
    }
   },
   "outputs": [],
   "source": [
    "XTrain = XTrain / 255.0\n",
    "XTest = XTest / 255.0"
   ]
  },
  {
   "cell_type": "markdown",
   "metadata": {},
   "source": [
    "# Convert XTrain and XTest to (numberOfTrainingExamples x imageShape) where image shape is (28 x 28 x 1). 1 becouse our images are in grayscale"
   ]
  },
  {
   "cell_type": "code",
   "execution_count": 82,
   "metadata": {
    "execution": {
     "iopub.execute_input": "2022-01-24T22:03:26.521376Z",
     "iopub.status.busy": "2022-01-24T22:03:26.520842Z",
     "iopub.status.idle": "2022-01-24T22:03:26.604376Z",
     "shell.execute_reply": "2022-01-24T22:03:26.60361Z",
     "shell.execute_reply.started": "2022-01-24T22:03:26.521338Z"
    }
   },
   "outputs": [],
   "source": [
    "XTrain = np.array(XTrain).reshape(-1, 28, 28, 1)\n",
    "XTest = np.array(XTest).reshape(-1, 28, 28, 1)"
   ]
  },
  {
   "cell_type": "markdown",
   "metadata": {},
   "source": [
    "# Lets plot some training examples"
   ]
  },
  {
   "cell_type": "code",
   "execution_count": 101,
   "metadata": {
    "execution": {
     "iopub.execute_input": "2022-01-24T22:14:04.546003Z",
     "iopub.status.busy": "2022-01-24T22:14:04.545743Z",
     "iopub.status.idle": "2022-01-24T22:14:05.991474Z",
     "shell.execute_reply": "2022-01-24T22:14:05.988194Z",
     "shell.execute_reply.started": "2022-01-24T22:14:04.545975Z"
    }
   },
   "outputs": [
    {
     "data": {
      "image/png": "[encoded data removed]",
      "text/plain": [
       "<Figure size 576x576 with 16 Axes>"
      ]
     },
     "metadata": {
      "needs_background": "light"
     },
     "output_type": "display_data"
    }
   ],
   "source": [
    "fig = plt.figure(figsize = (8, 8))\n",
    "rows, columns = 4, 4\n",
    "\n",
    "for i in range(1, (rows * columns) + 1):\n",
    "    imageIndex = np.random.randint(0, XTrain.shape[0])\n",
    "    fig.add_subplot(rows, columns, i)\n",
    "    plt.imshow(XTrain[imageIndex], cmap = 'gray')\n",
    "    \n",
    "plt.show()\n"
   ]
  },
  {
   "cell_type": "markdown",
   "metadata": {},
   "source": [
    "# Training the model"
   ]
  },
  {
   "cell_type": "markdown",
   "metadata": {},
   "source": [
    "### Data augmentation"
   ]
  },
  {
   "cell_type": "code",
   "execution_count": 102,
   "metadata": {
    "execution": {
     "iopub.execute_input": "2022-01-24T22:14:27.106962Z",
     "iopub.status.busy": "2022-01-24T22:14:27.106706Z",
     "iopub.status.idle": "2022-01-24T22:14:27.180873Z",
     "shell.execute_reply": "2022-01-24T22:14:27.180105Z",
     "shell.execute_reply.started": "2022-01-24T22:14:27.106934Z"
    }
   },
   "outputs": [],
   "source": [
    "dataGenerator = tf.keras.preprocessing.image.ImageDataGenerator(\n",
    "        featurewise_center=False,  # set input mean to 0 over the dataset\n",
    "        samplewise_center=False,  # set each sample mean to 0\n",
    "        featurewise_std_normalization=False,  # divide inputs by std of the dataset\n",
    "        samplewise_std_normalization=False,  # divide each input by its std\n",
    "        zca_whitening=False,  # apply ZCA whitening\n",
    "        rotation_range=14,  # randomly rotate images in the range (degrees, 0 to 180)\n",
    "        zoom_range = 0.09, # Randomly zoom image \n",
    "        width_shift_range=0.14,  # randomly shift images horizontally (fraction of total width)\n",
    "        height_shift_range=0.14,  # randomly shift images vertically (fraction of total height)\n",
    "        horizontal_flip=False,  # randomly flip images\n",
    "        vertical_flip=False,   # randomly flip images\n",
    "        brightness_range = (0.8, 1.0),  # brightness of image\n",
    "        rescale = 1 / 255.0)  # Normalization output\n",
    "                                \n",
    "dataGenerator.fit(XTrain)"
   ]
  },
  {
   "cell_type": "markdown",
   "metadata": {},
   "source": [
    "### Early stopping"
   ]
  },
  {
   "cell_type": "code",
   "execution_count": 103,
   "metadata": {
    "execution": {
     "iopub.execute_input": "2022-01-24T22:14:30.146191Z",
     "iopub.status.busy": "2022-01-24T22:14:30.145919Z",
     "iopub.status.idle": "2022-01-24T22:14:30.15162Z",
     "shell.execute_reply": "2022-01-24T22:14:30.150962Z",
     "shell.execute_reply.started": "2022-01-24T22:14:30.14616Z"
    }
   },
   "outputs": [],
   "source": [
    "class CustomEarlyStopping(tf.keras.callbacks.Callback):\n",
    "    \n",
    "    def __init__(self, threshold):\n",
    "        self.threshold = threshold\n",
    "        \n",
    "    def on_epoch_end(self, epoch, logs = None): \n",
    "        if(logs.get('val_accuracy') >= self.threshold):\n",
    "            print(\"Reached\", self.threshold, \"% accuracy. Stopping learning!\")\n",
    "            self.model.stop_training = True\n",
    "            \n",
    "earlyStopping = CustomEarlyStopping(0.997)"
   ]
  },
  {
   "cell_type": "markdown",
   "metadata": {},
   "source": [
    "### Reduce learning rate"
   ]
  },
  {
   "cell_type": "code",
   "execution_count": 104,
   "metadata": {
    "execution": {
     "iopub.execute_input": "2022-01-24T22:14:33.738975Z",
     "iopub.status.busy": "2022-01-24T22:14:33.738211Z",
     "iopub.status.idle": "2022-01-24T22:14:33.743159Z",
     "shell.execute_reply": "2022-01-24T22:14:33.74249Z",
     "shell.execute_reply.started": "2022-01-24T22:14:33.738924Z"
    }
   },
   "outputs": [],
   "source": [
    "learningRateReduction = ReduceLROnPlateau(monitor='loss', patience = 1, verbose=1,factor=0.75, min_lr=0.00000000001)"
   ]
  },
  {
   "cell_type": "markdown",
   "metadata": {},
   "source": [
    "### Before we start making the model, let's think about what we want to achieve. We need to find a golden mean between accuracy, model speed (total number of multiplications) and learning speed.\n",
    "### In the model below, I care only about the accuracy and speed of the model."
   ]
  },
  {
   "cell_type": "code",
   "execution_count": 105,
   "metadata": {
    "execution": {
     "iopub.execute_input": "2022-01-24T22:14:37.189249Z",
     "iopub.status.busy": "2022-01-24T22:14:37.188932Z",
     "iopub.status.idle": "2022-01-24T22:14:37.360665Z",
     "shell.execute_reply": "2022-01-24T22:14:37.359931Z",
     "shell.execute_reply.started": "2022-01-24T22:14:37.189215Z"
    }
   },
   "outputs": [
    {
     "name": "stdout",
     "output_type": "stream",
     "text": [
      "Model: \"sequential_8\"\n",
      "_________________________________________________________________\n",
      "Layer (type)                 Output Shape              Param #   \n",
      "=================================================================\n",
      "conv2d_24 (Conv2D)           (None, 28, 28, 64)        640       \n",
      "_________________________________________________________________\n",
      "dropout_41 (Dropout)         (None, 28, 28, 64)        0         \n",
      "_________________________________________________________________\n",
      "batch_normalization_30 (Batc (None, 28, 28, 64)        256       \n",
      "_________________________________________________________________\n",
      "max_pooling2d_24 (MaxPooling (None, 14, 14, 64)        0         \n",
      "_________________________________________________________________\n",
      "conv2d_25 (Conv2D)           (None, 14, 14, 32)        18464     \n",
      "_________________________________________________________________\n",
      "dropout_42 (Dropout)         (None, 14, 14, 32)        0         \n",
      "_________________________________________________________________\n",
      "batch_normalization_31 (Batc (None, 14, 14, 32)        128       \n",
      "_________________________________________________________________\n",
      "max_pooling2d_25 (MaxPooling (None, 7, 7, 32)          0         \n",
      "_________________________________________________________________\n",
      "conv2d_26 (Conv2D)           (None, 7, 7, 16)          4624      \n",
      "_________________________________________________________________\n",
      "dropout_43 (Dropout)         (None, 7, 7, 16)          0         \n",
      "_________________________________________________________________\n",
      "batch_normalization_32 (Batc (None, 7, 7, 16)          64        \n",
      "_________________________________________________________________\n",
      "max_pooling2d_26 (MaxPooling (None, 6, 6, 16)          0         \n",
      "_________________________________________________________________\n",
      "flatten_8 (Flatten)          (None, 576)               0         \n",
      "_________________________________________________________________\n",
      "dense_25 (Dense)             (None, 64)                36928     \n",
      "_________________________________________________________________\n",
      "dropout_44 (Dropout)         (None, 64)                0         \n",
      "_________________________________________________________________\n",
      "batch_normalization_33 (Batc (None, 64)                256       \n",
      "_________________________________________________________________\n",
      "dense_26 (Dense)             (None, 128)               8320      \n",
      "_________________________________________________________________\n",
      "dropout_45 (Dropout)         (None, 128)               0         \n",
      "_________________________________________________________________\n",
      "batch_normalization_34 (Batc (None, 128)               512       \n",
      "_________________________________________________________________\n",
      "dense_27 (Dense)             (None, 64)                8256      \n",
      "_________________________________________________________________\n",
      "dropout_46 (Dropout)         (None, 64)                0         \n",
      "_________________________________________________________________\n",
      "batch_normalization_35 (Batc (None, 64)                256       \n",
      "_________________________________________________________________\n",
      "dense_28 (Dense)             (None, 25)                1625      \n",
      "=================================================================\n",
      "Total params: 80,329\n",
      "Trainable params: 79,593\n",
      "Non-trainable params: 736\n",
      "_________________________________________________________________\n"
     ]
    }
   ],
   "source": [
    "model = Sequential()\n",
    "\n",
    "model.add(Conv2D(64, (3,3), strides = 1, padding = 'same', activation = 'relu', input_shape = (28,28,1)))\n",
    "model.add(Dropout(0.05))\n",
    "model.add(BatchNormalization())\n",
    "model.add(MaxPool2D((2,2), strides = 2, padding = 'valid'))\n",
    "\n",
    "model.add(Conv2D(32, (3,3), strides = 1, padding = 'same', activation = 'relu'))\n",
    "model.add(Dropout(0.15))\n",
    "model.add(BatchNormalization())\n",
    "model.add(MaxPool2D((2,2), strides = 2, padding = 'valid'))\n",
    "\n",
    "model.add(Conv2D(16, (3,3), strides = 1, padding = 'same', activation = 'relu'))\n",
    "model.add(Dropout(0.05))\n",
    "model.add(BatchNormalization())\n",
    "model.add(MaxPool2D((2,2), strides = 1, padding = 'valid'))\n",
    "\n",
    "model.add(Flatten())\n",
    "model.add(Dense(units = 64, activation = 'relu'))\n",
    "model.add(Dropout(0.05))\n",
    "model.add(BatchNormalization())\n",
    "\n",
    "model.add(Dense(units = 128, activation = 'relu'))\n",
    "model.add(Dropout(0.05))\n",
    "model.add(BatchNormalization())\n",
    "\n",
    "model.add(Dense(units = 64, activation = 'relu'))\n",
    "model.add(Dropout(0.05))\n",
    "model.add(BatchNormalization())\n",
    "\n",
    "model.add(Dense(units = numClasses, activation = 'softmax'))\n",
    "\n",
    "model.compile(optimizer = tf.keras.optimizers.Adam(learning_rate = 0.005) , loss = 'categorical_crossentropy' , metrics = ['accuracy'])\n",
    "\n",
    "model.summary()"
   ]
  },
  {
   "cell_type": "code",
   "execution_count": 106,
   "metadata": {
    "collapsed": true,
    "execution": {
     "iopub.execute_input": "2022-01-24T22:14:59.666765Z",
     "iopub.status.busy": "2022-01-24T22:14:59.666488Z",
     "iopub.status.idle": "2022-01-24T22:46:21.638809Z",
     "shell.execute_reply": "2022-01-24T22:46:21.638126Z",
     "shell.execute_reply.started": "2022-01-24T22:14:59.666734Z"
    },
    "jupyter": {
     "outputs_hidden": true
    }
   },
   "outputs": [
    {
     "name": "stdout",
     "output_type": "stream",
     "text": [
      "Epoch 1/80\n",
      "1515/1515 [==============================] - 23s 14ms/step - loss: 1.4863 - accuracy: 0.5193 - val_loss: 1.4676 - val_accuracy: 0.5862\n",
      "Epoch 2/80\n",
      "1515/1515 [==============================] - 21s 14ms/step - loss: 0.6951 - accuracy: 0.7663 - val_loss: 0.4406 - val_accuracy: 0.8427\n",
      "Epoch 3/80\n",
      "1515/1515 [==============================] - 21s 14ms/step - loss: 0.5056 - accuracy: 0.8302 - val_loss: 0.3990 - val_accuracy: 0.8594\n",
      "Epoch 4/80\n",
      "1515/1515 [==============================] - 21s 14ms/step - loss: 0.4264 - accuracy: 0.8593 - val_loss: 1.5548 - val_accuracy: 0.6202\n",
      "Epoch 5/80\n",
      "1515/1515 [==============================] - 21s 14ms/step - loss: 0.3582 - accuracy: 0.8794 - val_loss: 0.3403 - val_accuracy: 0.8850\n",
      "Epoch 6/80\n",
      "1515/1515 [==============================] - 21s 14ms/step - loss: 0.3110 - accuracy: 0.8983 - val_loss: 0.1837 - val_accuracy: 0.9353\n",
      "Epoch 7/80\n",
      "1515/1515 [==============================] - 21s 14ms/step - loss: 0.2962 - accuracy: 0.9059 - val_loss: 0.1270 - val_accuracy: 0.9578\n",
      "Epoch 8/80\n",
      "1515/1515 [==============================] - 21s 14ms/step - loss: 0.2543 - accuracy: 0.9161 - val_loss: 0.2081 - val_accuracy: 0.9256\n",
      "Epoch 9/80\n",
      "1515/1515 [==============================] - 21s 14ms/step - loss: 0.2291 - accuracy: 0.9259 - val_loss: 0.2416 - val_accuracy: 0.9211\n",
      "Epoch 10/80\n",
      "1515/1515 [==============================] - 21s 14ms/step - loss: 0.2093 - accuracy: 0.9316 - val_loss: 0.2763 - val_accuracy: 0.9074\n",
      "Epoch 11/80\n",
      "1515/1515 [==============================] - 21s 14ms/step - loss: 0.1910 - accuracy: 0.9368 - val_loss: 0.1080 - val_accuracy: 0.9576\n",
      "Epoch 12/80\n",
      "1515/1515 [==============================] - 21s 14ms/step - loss: 0.1891 - accuracy: 0.9378 - val_loss: 0.1105 - val_accuracy: 0.9665\n",
      "Epoch 13/80\n",
      "1515/1515 [==============================] - 20s 13ms/step - loss: 0.1753 - accuracy: 0.9440 - val_loss: 0.0372 - val_accuracy: 0.9886\n",
      "Epoch 14/80\n",
      "1515/1515 [==============================] - 21s 14ms/step - loss: 0.1634 - accuracy: 0.9475 - val_loss: 0.2723 - val_accuracy: 0.9181\n",
      "Epoch 15/80\n",
      "1515/1515 [==============================] - 22s 14ms/step - loss: 0.1654 - accuracy: 0.9476 - val_loss: 0.0245 - val_accuracy: 0.9925\n",
      "\n",
      "Epoch 00015: ReduceLROnPlateau reducing learning rate to 0.0037499999161809683.\n",
      "Epoch 16/80\n",
      "1515/1515 [==============================] - 22s 14ms/step - loss: 0.1197 - accuracy: 0.9609 - val_loss: 0.6586 - val_accuracy: 0.8232\n",
      "Epoch 17/80\n",
      "1515/1515 [==============================] - 22s 15ms/step - loss: 0.1256 - accuracy: 0.9602 - val_loss: 0.0253 - val_accuracy: 0.9916\n",
      "\n",
      "Epoch 00017: ReduceLROnPlateau reducing learning rate to 0.002812499937135726.\n",
      "Epoch 18/80\n",
      "1515/1515 [==============================] - 22s 15ms/step - loss: 0.1046 - accuracy: 0.9647 - val_loss: 0.1162 - val_accuracy: 0.9618\n",
      "Epoch 19/80\n",
      "1515/1515 [==============================] - 21s 14ms/step - loss: 0.0932 - accuracy: 0.9698 - val_loss: 0.0236 - val_accuracy: 0.9921\n",
      "Epoch 20/80\n",
      "1515/1515 [==============================] - 21s 14ms/step - loss: 0.0998 - accuracy: 0.9686 - val_loss: 0.0942 - val_accuracy: 0.9735\n",
      "\n",
      "Epoch 00020: ReduceLROnPlateau reducing learning rate to 0.002109374909196049.\n",
      "Epoch 21/80\n",
      "1515/1515 [==============================] - 20s 14ms/step - loss: 0.0804 - accuracy: 0.9741 - val_loss: 0.0124 - val_accuracy: 0.9958\n",
      "Epoch 22/80\n",
      "1515/1515 [==============================] - 21s 14ms/step - loss: 0.0827 - accuracy: 0.9741 - val_loss: 0.0272 - val_accuracy: 0.9916\n",
      "\n",
      "Epoch 00022: ReduceLROnPlateau reducing learning rate to 0.001582031138241291.\n",
      "Epoch 23/80\n",
      "1515/1515 [==============================] - 21s 14ms/step - loss: 0.0676 - accuracy: 0.9781 - val_loss: 0.0051 - val_accuracy: 0.9990\n",
      "Epoch 24/80\n",
      "1515/1515 [==============================] - 22s 14ms/step - loss: 0.0630 - accuracy: 0.9794 - val_loss: 0.0052 - val_accuracy: 0.9980\n",
      "Epoch 25/80\n",
      "1515/1515 [==============================] - 21s 14ms/step - loss: 0.0645 - accuracy: 0.9797 - val_loss: 0.0236 - val_accuracy: 0.9923\n",
      "\n",
      "Epoch 00025: ReduceLROnPlateau reducing learning rate to 0.0011865233536809683.\n",
      "Epoch 26/80\n",
      "1515/1515 [==============================] - 21s 14ms/step - loss: 0.0599 - accuracy: 0.9806 - val_loss: 0.0081 - val_accuracy: 0.9969\n",
      "Epoch 27/80\n",
      "1515/1515 [==============================] - 21s 14ms/step - loss: 0.0622 - accuracy: 0.9808 - val_loss: 0.0297 - val_accuracy: 0.9902\n",
      "\n",
      "Epoch 00027: ReduceLROnPlateau reducing learning rate to 0.0008898925152607262.\n",
      "Epoch 28/80\n",
      "1515/1515 [==============================] - 21s 14ms/step - loss: 0.0520 - accuracy: 0.9842 - val_loss: 0.0030 - val_accuracy: 0.9994\n",
      "Epoch 29/80\n",
      "1515/1515 [==============================] - 21s 14ms/step - loss: 0.0523 - accuracy: 0.9837 - val_loss: 0.0166 - val_accuracy: 0.9953\n",
      "\n",
      "Epoch 00029: ReduceLROnPlateau reducing learning rate to 0.0006674193864455447.\n",
      "Epoch 30/80\n",
      "1515/1515 [==============================] - 21s 14ms/step - loss: 0.0510 - accuracy: 0.9849 - val_loss: 0.0028 - val_accuracy: 0.9994\n",
      "Epoch 31/80\n",
      "1515/1515 [==============================] - 21s 14ms/step - loss: 0.0487 - accuracy: 0.9847 - val_loss: 0.0042 - val_accuracy: 0.9989\n",
      "Epoch 32/80\n",
      "1515/1515 [==============================] - 20s 13ms/step - loss: 0.0485 - accuracy: 0.9849 - val_loss: 0.0060 - val_accuracy: 0.9982\n",
      "Epoch 33/80\n",
      "1515/1515 [==============================] - 21s 14ms/step - loss: 0.0459 - accuracy: 0.9848 - val_loss: 0.0078 - val_accuracy: 0.9975\n",
      "Epoch 34/80\n",
      "1515/1515 [==============================] - 20s 13ms/step - loss: 0.0418 - accuracy: 0.9867 - val_loss: 0.0031 - val_accuracy: 0.9990\n",
      "Epoch 35/80\n",
      "1515/1515 [==============================] - 22s 14ms/step - loss: 0.0463 - accuracy: 0.9857 - val_loss: 0.0049 - val_accuracy: 0.9982\n",
      "\n",
      "Epoch 00035: ReduceLROnPlateau reducing learning rate to 0.0005005645507480949.\n",
      "Epoch 36/80\n",
      "1515/1515 [==============================] - 21s 14ms/step - loss: 0.0422 - accuracy: 0.9860 - val_loss: 0.0035 - val_accuracy: 0.9990\n",
      "\n",
      "Epoch 00036: ReduceLROnPlateau reducing learning rate to 0.00037542343488894403.\n",
      "Epoch 37/80\n",
      "1515/1515 [==============================] - 21s 14ms/step - loss: 0.0414 - accuracy: 0.9860 - val_loss: 0.0044 - val_accuracy: 0.9985\n",
      "Epoch 38/80\n",
      "1515/1515 [==============================] - 21s 14ms/step - loss: 0.0408 - accuracy: 0.9871 - val_loss: 0.0028 - val_accuracy: 0.9990\n",
      "Epoch 39/80\n",
      "1515/1515 [==============================] - 21s 14ms/step - loss: 0.0377 - accuracy: 0.9883 - val_loss: 0.0027 - val_accuracy: 0.9992\n",
      "Epoch 40/80\n",
      "1515/1515 [==============================] - 21s 14ms/step - loss: 0.0385 - accuracy: 0.9874 - val_loss: 0.0026 - val_accuracy: 0.9991\n",
      "\n",
      "Epoch 00040: ReduceLROnPlateau reducing learning rate to 0.000281567576166708.\n",
      "Epoch 41/80\n",
      "1515/1515 [==============================] - 21s 14ms/step - loss: 0.0374 - accuracy: 0.9887 - val_loss: 0.0028 - val_accuracy: 0.9991\n",
      "Epoch 42/80\n",
      "1515/1515 [==============================] - 22s 14ms/step - loss: 0.0369 - accuracy: 0.9885 - val_loss: 0.0020 - val_accuracy: 0.9994\n",
      "Epoch 43/80\n",
      "1515/1515 [==============================] - 21s 14ms/step - loss: 0.0360 - accuracy: 0.9877 - val_loss: 0.0023 - val_accuracy: 0.9992\n",
      "Epoch 44/80\n",
      "1515/1515 [==============================] - 21s 14ms/step - loss: 0.0367 - accuracy: 0.9884 - val_loss: 0.0031 - val_accuracy: 0.9987\n",
      "\n",
      "Epoch 00044: ReduceLROnPlateau reducing learning rate to 0.0002111756766680628.\n",
      "Epoch 45/80\n",
      "1515/1515 [==============================] - 21s 14ms/step - loss: 0.0347 - accuracy: 0.9886 - val_loss: 0.0026 - val_accuracy: 0.9989\n",
      "Epoch 46/80\n",
      "1515/1515 [==============================] - 21s 14ms/step - loss: 0.0402 - accuracy: 0.9875 - val_loss: 0.0023 - val_accuracy: 0.9991\n",
      "\n",
      "Epoch 00046: ReduceLROnPlateau reducing learning rate to 0.0001583817575010471.\n",
      "Epoch 47/80\n",
      "1515/1515 [==============================] - 21s 14ms/step - loss: 0.0349 - accuracy: 0.9889 - val_loss: 0.0025 - val_accuracy: 0.9993\n",
      "\n",
      "Epoch 00047: ReduceLROnPlateau reducing learning rate to 0.00011878632358275354.\n",
      "Epoch 48/80\n",
      "1515/1515 [==============================] - 21s 14ms/step - loss: 0.0395 - accuracy: 0.9876 - val_loss: 0.0021 - val_accuracy: 0.9994\n",
      "\n",
      "Epoch 00048: ReduceLROnPlateau reducing learning rate to 8.908974268706515e-05.\n",
      "Epoch 49/80\n",
      "1515/1515 [==============================] - 21s 14ms/step - loss: 0.0334 - accuracy: 0.9895 - val_loss: 0.0019 - val_accuracy: 0.9994\n",
      "Epoch 50/80\n",
      "1515/1515 [==============================] - 21s 14ms/step - loss: 0.0355 - accuracy: 0.9892 - val_loss: 0.0025 - val_accuracy: 0.9992\n",
      "\n",
      "Epoch 00050: ReduceLROnPlateau reducing learning rate to 6.681730701529887e-05.\n",
      "Epoch 51/80\n",
      "1515/1515 [==============================] - 21s 14ms/step - loss: 0.0353 - accuracy: 0.9887 - val_loss: 0.0027 - val_accuracy: 0.9990\n",
      "\n",
      "Epoch 00051: ReduceLROnPlateau reducing learning rate to 5.01129816257162e-05.\n",
      "Epoch 52/80\n",
      "1515/1515 [==============================] - 21s 14ms/step - loss: 0.0338 - accuracy: 0.9887 - val_loss: 0.0027 - val_accuracy: 0.9992\n",
      "\n",
      "Epoch 00052: ReduceLROnPlateau reducing learning rate to 3.7584737583529204e-05.\n",
      "Epoch 53/80\n",
      "1515/1515 [==============================] - 21s 14ms/step - loss: 0.0348 - accuracy: 0.9887 - val_loss: 0.0023 - val_accuracy: 0.9992\n",
      "\n",
      "Epoch 00053: ReduceLROnPlateau reducing learning rate to 2.8188553187646903e-05.\n",
      "Epoch 54/80\n",
      "1515/1515 [==============================] - 21s 14ms/step - loss: 0.0329 - accuracy: 0.9892 - val_loss: 0.0025 - val_accuracy: 0.9992\n",
      "Epoch 55/80\n",
      "1515/1515 [==============================] - 21s 14ms/step - loss: 0.0335 - accuracy: 0.9899 - val_loss: 0.0024 - val_accuracy: 0.9992\n",
      "\n",
      "Epoch 00055: ReduceLROnPlateau reducing learning rate to 2.1141414890735177e-05.\n",
      "Epoch 56/80\n",
      "1515/1515 [==============================] - 21s 14ms/step - loss: 0.0342 - accuracy: 0.9889 - val_loss: 0.0023 - val_accuracy: 0.9993\n",
      "\n",
      "Epoch 00056: ReduceLROnPlateau reducing learning rate to 1.5856061509111896e-05.\n",
      "Epoch 57/80\n",
      "1515/1515 [==============================] - 21s 14ms/step - loss: 0.0335 - accuracy: 0.9896 - val_loss: 0.0022 - val_accuracy: 0.9993\n",
      "\n",
      "Epoch 00057: ReduceLROnPlateau reducing learning rate to 1.1892046131833922e-05.\n",
      "Epoch 58/80\n",
      "1515/1515 [==============================] - 21s 14ms/step - loss: 0.0362 - accuracy: 0.9891 - val_loss: 0.0022 - val_accuracy: 0.9993\n",
      "\n",
      "Epoch 00058: ReduceLROnPlateau reducing learning rate to 8.919034598875442e-06.\n",
      "Epoch 59/80\n",
      "1515/1515 [==============================] - 21s 14ms/step - loss: 0.0377 - accuracy: 0.9877 - val_loss: 0.0024 - val_accuracy: 0.9992\n",
      "\n",
      "Epoch 00059: ReduceLROnPlateau reducing learning rate to 6.689275778626325e-06.\n",
      "Epoch 60/80\n",
      "1515/1515 [==============================] - 21s 14ms/step - loss: 0.0337 - accuracy: 0.9889 - val_loss: 0.0023 - val_accuracy: 0.9992\n",
      "\n",
      "Epoch 00060: ReduceLROnPlateau reducing learning rate to 5.0169568339697435e-06.\n",
      "Epoch 61/80\n",
      "1515/1515 [==============================] - 20s 13ms/step - loss: 0.0348 - accuracy: 0.9881 - val_loss: 0.0024 - val_accuracy: 0.9991\n",
      "\n",
      "Epoch 00061: ReduceLROnPlateau reducing learning rate to 3.762717710742436e-06.\n",
      "Epoch 62/80\n",
      "1515/1515 [==============================] - 21s 14ms/step - loss: 0.0366 - accuracy: 0.9887 - val_loss: 0.0025 - val_accuracy: 0.9992\n",
      "\n",
      "Epoch 00062: ReduceLROnPlateau reducing learning rate to 2.822038368321955e-06.\n",
      "Epoch 63/80\n",
      "1515/1515 [==============================] - 21s 14ms/step - loss: 0.0366 - accuracy: 0.9890 - val_loss: 0.0024 - val_accuracy: 0.9992\n",
      "\n",
      "Epoch 00063: ReduceLROnPlateau reducing learning rate to 2.1165287762414664e-06.\n",
      "Epoch 64/80\n",
      "1515/1515 [==============================] - 21s 14ms/step - loss: 0.0304 - accuracy: 0.9907 - val_loss: 0.0023 - val_accuracy: 0.9993\n",
      "Epoch 65/80\n",
      "1515/1515 [==============================] - 21s 14ms/step - loss: 0.0332 - accuracy: 0.9892 - val_loss: 0.0022 - val_accuracy: 0.9993\n",
      "\n",
      "Epoch 00065: ReduceLROnPlateau reducing learning rate to 1.5873965821810998e-06.\n",
      "Epoch 66/80\n",
      "1515/1515 [==============================] - 21s 14ms/step - loss: 0.0360 - accuracy: 0.9882 - val_loss: 0.0024 - val_accuracy: 0.9990\n",
      "\n",
      "Epoch 00066: ReduceLROnPlateau reducing learning rate to 1.1905474366358249e-06.\n",
      "Epoch 67/80\n",
      "1515/1515 [==============================] - 20s 13ms/step - loss: 0.0306 - accuracy: 0.9906 - val_loss: 0.0025 - val_accuracy: 0.9992\n",
      "\n",
      "Epoch 00067: ReduceLROnPlateau reducing learning rate to 8.929105774768686e-07.\n",
      "Epoch 68/80\n",
      "1515/1515 [==============================] - 21s 14ms/step - loss: 0.0306 - accuracy: 0.9898 - val_loss: 0.0023 - val_accuracy: 0.9992\n",
      "\n",
      "Epoch 00068: ReduceLROnPlateau reducing learning rate to 6.696829331076515e-07.\n",
      "Epoch 69/80\n",
      "1515/1515 [==============================] - 21s 14ms/step - loss: 0.0357 - accuracy: 0.9876 - val_loss: 0.0023 - val_accuracy: 0.9992\n",
      "\n",
      "Epoch 00069: ReduceLROnPlateau reducing learning rate to 5.022622104888796e-07.\n",
      "Epoch 70/80\n",
      "1515/1515 [==============================] - 20s 13ms/step - loss: 0.0321 - accuracy: 0.9901 - val_loss: 0.0025 - val_accuracy: 0.9990\n",
      "\n",
      "Epoch 00070: ReduceLROnPlateau reducing learning rate to 3.766966472085187e-07.\n",
      "Epoch 71/80\n",
      "1515/1515 [==============================] - 21s 14ms/step - loss: 0.0352 - accuracy: 0.9887 - val_loss: 0.0022 - val_accuracy: 0.9992\n",
      "\n",
      "Epoch 00071: ReduceLROnPlateau reducing learning rate to 2.82522485406389e-07.\n",
      "Epoch 72/80\n",
      "1515/1515 [==============================] - 21s 14ms/step - loss: 0.0337 - accuracy: 0.9885 - val_loss: 0.0024 - val_accuracy: 0.9993\n",
      "\n",
      "Epoch 00072: ReduceLROnPlateau reducing learning rate to 2.1189185872572125e-07.\n",
      "Epoch 73/80\n",
      "1515/1515 [==============================] - 21s 14ms/step - loss: 0.0349 - accuracy: 0.9887 - val_loss: 0.0021 - val_accuracy: 0.9994\n",
      "\n",
      "Epoch 00073: ReduceLROnPlateau reducing learning rate to 1.5891889404429094e-07.\n",
      "Epoch 74/80\n",
      "1515/1515 [==============================] - 21s 14ms/step - loss: 0.0342 - accuracy: 0.9895 - val_loss: 0.0021 - val_accuracy: 0.9992\n",
      "\n",
      "Epoch 00074: ReduceLROnPlateau reducing learning rate to 1.191891705332182e-07.\n",
      "Epoch 75/80\n",
      "1515/1515 [==============================] - 20s 13ms/step - loss: 0.0334 - accuracy: 0.9891 - val_loss: 0.0023 - val_accuracy: 0.9993\n",
      "\n",
      "Epoch 00075: ReduceLROnPlateau reducing learning rate to 8.939187523537839e-08.\n",
      "Epoch 76/80\n",
      "1515/1515 [==============================] - 21s 14ms/step - loss: 0.0346 - accuracy: 0.9893 - val_loss: 0.0023 - val_accuracy: 0.9994\n",
      "\n",
      "Epoch 00076: ReduceLROnPlateau reducing learning rate to 6.70439064265338e-08.\n",
      "Epoch 77/80\n",
      "1515/1515 [==============================] - 20s 13ms/step - loss: 0.0342 - accuracy: 0.9887 - val_loss: 0.0024 - val_accuracy: 0.9992\n",
      "\n",
      "Epoch 00077: ReduceLROnPlateau reducing learning rate to 5.0282929819900346e-08.\n",
      "Epoch 78/80\n",
      "1515/1515 [==============================] - 21s 14ms/step - loss: 0.0365 - accuracy: 0.9889 - val_loss: 0.0023 - val_accuracy: 0.9992\n",
      "\n",
      "Epoch 00078: ReduceLROnPlateau reducing learning rate to 3.771219603265763e-08.\n",
      "Epoch 79/80\n",
      "1515/1515 [==============================] - 21s 14ms/step - loss: 0.0295 - accuracy: 0.9904 - val_loss: 0.0022 - val_accuracy: 0.9993\n",
      "Epoch 80/80\n",
      "1515/1515 [==============================] - 21s 14ms/step - loss: 0.0346 - accuracy: 0.9896 - val_loss: 0.0023 - val_accuracy: 0.9993\n",
      "\n",
      "Epoch 00080: ReduceLROnPlateau reducing learning rate to 2.8284148356760852e-08.\n"
     ]
    }
   ],
   "source": [
    "history = model.fit(dataGenerator.flow(XTrain, yTrain, batch_size = 16) ,epochs = 80, \n",
    "                    validation_data = (XTest, yTest), callbacks = [learningRateReduction])"
   ]
  },
  {
   "cell_type": "markdown",
   "metadata": {},
   "source": [
    "# Analysis"
   ]
  },
  {
   "cell_type": "code",
   "execution_count": 136,
   "metadata": {
    "execution": {
     "iopub.execute_input": "2022-01-24T23:01:21.197359Z",
     "iopub.status.busy": "2022-01-24T23:01:21.196809Z",
     "iopub.status.idle": "2022-01-24T23:01:21.456627Z",
     "shell.execute_reply": "2022-01-24T23:01:21.45594Z",
     "shell.execute_reply.started": "2022-01-24T23:01:21.197322Z"
    }
   },
   "outputs": [
    {
     "data": {
      "text/plain": [
       "<matplotlib.legend.Legend at 0x7f7f507a1890>"
      ]
     },
     "execution_count": 136,
     "metadata": {},
     "output_type": "execute_result"
    },
    {
     "data": {
      "image/png": "[encoded data removed]",
      "text/plain": [
       "<Figure size 576x576 with 1 Axes>"
      ]
     },
     "metadata": {
      "needs_background": "light"
     },
     "output_type": "display_data"
    }
   ],
   "source": [
    "plt.figure(figsize = (8, 8))\n",
    "plt.plot(history.history[\"accuracy\"], color = 'red', linewidth = 3)\n",
    "plt.plot(history.history[\"val_accuracy\"], color = 'green', linewidth = 3)\n",
    "plt.title(\"Model accuracy\", fontsize = 22)\n",
    "plt.ylabel(\"accuracy\", fontsize = 18)\n",
    "plt.xlabel(\"Epoch\", fontsize = 18)\n",
    "plt.legend([\"Train accuracy\", \"Test accuracy\"], loc = 'lower right')"
   ]
  },
  {
   "cell_type": "code",
   "execution_count": 137,
   "metadata": {
    "execution": {
     "iopub.execute_input": "2022-01-24T23:01:42.196865Z",
     "iopub.status.busy": "2022-01-24T23:01:42.196591Z",
     "iopub.status.idle": "2022-01-24T23:01:42.443486Z",
     "shell.execute_reply": "2022-01-24T23:01:42.441863Z",
     "shell.execute_reply.started": "2022-01-24T23:01:42.196837Z"
    }
   },
   "outputs": [
    {
     "data": {
      "text/plain": [
       "<matplotlib.legend.Legend at 0x7f7f5072ce50>"
      ]
     },
     "execution_count": 137,
     "metadata": {},
     "output_type": "execute_result"
    },
    {
     "data": {
      "image/png": "[encoded data removed]",
      "text/plain": [
       "<Figure size 576x576 with 1 Axes>"
      ]
     },
     "metadata": {
      "needs_background": "light"
     },
     "output_type": "display_data"
    }
   ],
   "source": [
    "plt.figure(figsize = (8, 8))\n",
    "plt.plot(history.history[\"loss\"], color = 'red', linewidth = 3)\n",
    "plt.plot(history.history[\"val_loss\"], color = 'green', linewidth = 3)\n",
    "plt.title(\"Model loss\", fontsize = 22)\n",
    "plt.ylabel(\"loss\", fontsize = 18)\n",
    "plt.xlabel(\"Epoch\", fontsize = 18)\n",
    "plt.legend([\"Train loss\", \"Test loss\"], loc = 'upper right')"
   ]
  },
  {
   "cell_type": "code",
   "execution_count": 156,
   "metadata": {
    "execution": {
     "iopub.execute_input": "2022-01-24T23:22:49.056936Z",
     "iopub.status.busy": "2022-01-24T23:22:49.056673Z",
     "iopub.status.idle": "2022-01-24T23:22:52.736457Z",
     "shell.execute_reply": "2022-01-24T23:22:52.734978Z",
     "shell.execute_reply.started": "2022-01-24T23:22:49.056905Z"
    }
   },
   "outputs": [
    {
     "data": {
      "text/plain": [
       "<AxesSubplot:>"
      ]
     },
     "execution_count": 156,
     "metadata": {},
     "output_type": "execute_result"
    },
    {
     "data": {
      "image/png": "[encoded data removed]",
      "text/plain": [
       "<Figure size 864x648 with 2 Axes>"
      ]
     },
     "metadata": {
      "needs_background": "light"
     },
     "output_type": "display_data"
    }
   ],
   "source": [
    "predictions = model.predict(XTest)\n",
    "predictions = np.argmax(predictions, axis = 1)\n",
    "\n",
    "confusionMatrix = confusion_matrix(y, predictions)\n",
    "\n",
    "plt.figure(figsize = (12, 9))\n",
    "sns.heatmap(confusionMatrix, cmap= \"Blues\", linecolor = 'black', linewidth = 1, annot = True, fmt='')"
   ]
  },
  {
   "cell_type": "code",
   "execution_count": 224,
   "metadata": {
    "execution": {
     "iopub.execute_input": "2022-01-24T23:54:09.892391Z",
     "iopub.status.busy": "2022-01-24T23:54:09.891533Z",
     "iopub.status.idle": "2022-01-24T23:54:09.897533Z",
     "shell.execute_reply": "2022-01-24T23:54:09.896845Z",
     "shell.execute_reply.started": "2022-01-24T23:54:09.892348Z"
    }
   },
   "outputs": [],
   "source": [
    "badlyClassified = np.where(predictions != y)"
   ]
  },
  {
   "cell_type": "code",
   "execution_count": 225,
   "metadata": {
    "execution": {
     "iopub.execute_input": "2022-01-24T23:54:11.256286Z",
     "iopub.status.busy": "2022-01-24T23:54:11.256016Z",
     "iopub.status.idle": "2022-01-24T23:54:11.26212Z",
     "shell.execute_reply": "2022-01-24T23:54:11.261456Z",
     "shell.execute_reply.started": "2022-01-24T23:54:11.256257Z"
    }
   },
   "outputs": [
    {
     "data": {
      "text/plain": [
       "[3075, 3405, 4930, 6055, 6182, 7579, 9105]"
      ]
     },
     "execution_count": 225,
     "metadata": {},
     "output_type": "execute_result"
    }
   ],
   "source": [
    "badlyClassified = np.array(badlyClassified).tolist()\n",
    "badlyClassified = [item for sublist in badlyClassified for item in sublist]"
   ]
  },
  {
   "cell_type": "code",
   "execution_count": 245,
   "metadata": {
    "execution": {
     "iopub.execute_input": "2022-01-25T00:02:13.040532Z",
     "iopub.status.busy": "2022-01-25T00:02:13.040285Z",
     "iopub.status.idle": "2022-01-25T00:02:13.363578Z",
     "shell.execute_reply": "2022-01-25T00:02:13.362919Z",
     "shell.execute_reply.started": "2022-01-25T00:02:13.040504Z"
    }
   },
   "outputs": [
    {
     "data": {
      "image/png": "[encoded data removed]",
      "text/plain": [
       "<Figure size 1512x1512 with 7 Axes>"
      ]
     },
     "metadata": {
      "needs_background": "light"
     },
     "output_type": "display_data"
    }
   ],
   "source": [
    "fig = plt.figure(figsize = (21, 21))\n",
    "rows, columns = 1, 7\n",
    "\n",
    "for i in range(0, len(badlyClassified)):\n",
    "    fig.add_subplot(rows, columns,  i + 1)\n",
    "    plt.axis('off')\n",
    "    plt.title(\"Predicted class: {} \\n Actual class: {}\".format(predictions[badlyClassified[i]], np.argmax(yTest[badlyClassified[i]], axis = 0)))\n",
    "    plt.imshow(XTest[badlyClassified[i]], cmap = 'gray')\n",
    "    \n",
    "plt.show()"
   ]
  }
 ],
 "metadata": {
  "kernelspec": {
   "display_name": "Python 3",
   "language": "python",
   "name": "python3"
  },
  "language_info": {
   "codemirror_mode": {
    "name": "ipython",
    "version": 3
   },
   "file_extension": ".py",
   "mimetype": "text/x-python",
   "name": "python",
   "nbconvert_exporter": "python",
   "pygments_lexer": "ipython3",
   "version": "3.9.6"
  }
 },
 "nbformat": 4,
 "nbformat_minor": 4
}
